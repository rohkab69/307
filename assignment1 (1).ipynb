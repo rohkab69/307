{
 "cells": [
  {
   "cell_type": "markdown",
   "id": "c3077557",
   "metadata": {
    "deletable": false,
    "editable": false,
    "nbgrader": {
     "cell_type": "markdown",
     "checksum": "56561e6d3cda9e8b47fe9b2e467f1726",
     "grade": false,
     "grade_id": "cell-d53271c6a7b06893",
     "locked": true,
     "schema_version": 3,
     "solution": false,
     "task": false
    }
   },
   "source": [
    "# MATH 307 Assignment 1\n",
    "\n",
    "* See [Mathematical Python](https://www.math.ubc.ca/~pwalls/math-python/) for an introduction to Python and Jupyter\n",
    "* See [MATH 307 Jupyter Notebooks](https://ubcmath.github.io/MATH307/) for examples\n",
    "* Run the tests to verify your solutions but note there are **hidden tests**\n",
    "* Submit your `.ipynb` notebook file to Canvas"
   ]
  },
  {
   "cell_type": "code",
   "execution_count": 3,
   "id": "cd1a8fff",
   "metadata": {
    "deletable": false,
    "editable": false,
    "nbgrader": {
     "cell_type": "code",
     "checksum": "0ebc58a115845bcb7d52d1b532d2d90d",
     "grade": false,
     "grade_id": "cell-5b857cc392e30291",
     "locked": true,
     "schema_version": 3,
     "solution": false,
     "task": false
    }
   },
   "outputs": [],
   "source": [
    "import numpy as np\n",
    "import scipy.linalg as la\n",
    "import matplotlib.pyplot as plt"
   ]
  },
  {
   "cell_type": "markdown",
   "id": "9e421994",
   "metadata": {
    "deletable": false,
    "editable": false,
    "nbgrader": {
     "cell_type": "markdown",
     "checksum": "34d35a8486adca5ef23c6d7e8cafa9eb",
     "grade": false,
     "grade_id": "cell-6885a42fb5ca28a8",
     "locked": true,
     "schema_version": 3,
     "solution": false,
     "task": false
    }
   },
   "source": [
    "## Problem 1 (2 marks)\n",
    "\n",
    "Use the function `scipy.linalg.solve` (see the [documentation](https://docs.scipy.org/doc/scipy/reference/generated/scipy.linalg.solve.html)) to compute the solution $\\mathbf{x}$ of the linear system $A \\mathbf{x} = \\mathbf{b}$ where\n",
    "\n",
    "$$\n",
    "A = \\left[ \\begin{array}{rrr} 1 & 5 & 2 \\\\ -1 & 2 & 3 \\\\ 6 & -2 & -1 \\end{array} \\right]\n",
    "\\hspace{10mm}\n",
    "\\mathbf{b} = \\begin{bmatrix} 2 \\\\ 5 \\\\ 1 \\end{bmatrix}\n",
    "$$"
   ]
  },
  {
   "cell_type": "code",
   "execution_count": 25,
   "id": "29ae801b",
   "metadata": {
    "deletable": false,
    "nbgrader": {
     "cell_type": "code",
     "checksum": "432135884095e885ae4aeab3cce7a270",
     "grade": false,
     "grade_id": "cell-9166cc08d32cf10b",
     "locked": false,
     "schema_version": 3,
     "solution": true,
     "task": false
    }
   },
   "outputs": [
    {
     "data": {
      "text/plain": [
       "array([[ 0.34782609],\n",
       "       [-0.52173913],\n",
       "       [ 2.13043478]])"
      ]
     },
     "metadata": {},
     "output_type": "display_data"
    }
   ],
   "source": [
    "# YOUR CODE HERE\n",
    "a = np.array([[1, 5, 2],\n",
    "             [-1, 2, 3],\n",
    "             [6, -2, -1]]);\n",
    "b = np.array([[2],[5],[1]]);\n",
    "x = la.solve(a,b);\n",
    "display(x);"
   ]
  },
  {
   "cell_type": "code",
   "execution_count": 23,
   "id": "5463411d",
   "metadata": {
    "deletable": false,
    "editable": false,
    "nbgrader": {
     "cell_type": "code",
     "checksum": "54ad0ecda99395cd720ae8ba9f2a156d",
     "grade": true,
     "grade_id": "cell-d4c87de498470b30",
     "locked": true,
     "points": 1,
     "schema_version": 3,
     "solution": false,
     "task": false
    }
   },
   "outputs": [
    {
     "name": "stdout",
     "output_type": "stream",
     "text": [
      "Problem 1 Test 1: Success!\n"
     ]
    }
   ],
   "source": [
    "\"Verify type and size of x. (1 mark)\"\n",
    "assert isinstance(x,np.ndarray) , \"x should be a NumPy array.\"\n",
    "assert x.size == 3 , \"x should be a vector length 3.\"\n",
    "print(\"Problem 1 Test 1: Success!\")"
   ]
  },
  {
   "cell_type": "code",
   "execution_count": 24,
   "id": "01ff8821",
   "metadata": {
    "deletable": false,
    "editable": false,
    "nbgrader": {
     "cell_type": "code",
     "checksum": "743f7368bd86b4bb5e88083f9656a4c7",
     "grade": true,
     "grade_id": "cell-56e1fadbfe07b469",
     "locked": true,
     "points": 1,
     "schema_version": 3,
     "solution": false,
     "task": false
    }
   },
   "outputs": [
    {
     "name": "stdout",
     "output_type": "stream",
     "text": [
      "Problem 1 Test 2: Success!\n"
     ]
    }
   ],
   "source": [
    "\"Verify values of x. This cell contains hidden tests. (1 mark)\"\n",
    "assert np.allclose(x[0],0.34782609)\n",
    "print(\"Problem 1 Test 2: Success!\")"
   ]
  },
  {
   "cell_type": "markdown",
   "id": "8ca758dd",
   "metadata": {
    "deletable": false,
    "editable": false,
    "nbgrader": {
     "cell_type": "markdown",
     "checksum": "f01f9b53e1c736aeeb1f7f0755cb75f4",
     "grade": false,
     "grade_id": "cell-3e8a3ae5a8105674",
     "locked": true,
     "schema_version": 3,
     "solution": false,
     "task": false
    }
   },
   "source": [
    "## Problem 2 (7 marks)\n",
    "\n",
    "Consider the $N \\times N$ matrix\n",
    "\n",
    "$$\n",
    "A =  \\left[ \\begin{array}{rrrrr}\n",
    "2 & -1 & & & \\\\\n",
    "-1 & 2 & -1 & & \\\\\n",
    "& & \\ddots & & \\\\\n",
    "& & -1 & 2 & -1 \\\\\n",
    "& & & -1 & 2 \\\\\n",
    "\\end{array}\n",
    "\\right]\n",
    "$$\n",
    "\n",
    "Use the function `np.diag` (see [documentation](https://numpy.org/doc/stable/reference/generated/numpy.diag.html)) to construct $A$."
   ]
  },
  {
   "cell_type": "markdown",
   "id": "3337fbd1",
   "metadata": {
    "deletable": false,
    "editable": false,
    "nbgrader": {
     "cell_type": "markdown",
     "checksum": "c6cf3f6de99e00cc71b4531f216d3372",
     "grade": false,
     "grade_id": "cell-607bda21ca4a00a3",
     "locked": true,
     "schema_version": 3,
     "solution": false,
     "task": false
    }
   },
   "source": [
    "(a) Construct the matrix $A$ for $N = 20$. "
   ]
  },
  {
   "cell_type": "code",
   "execution_count": 74,
   "id": "9e72891a",
   "metadata": {
    "deletable": false,
    "nbgrader": {
     "cell_type": "code",
     "checksum": "2ffb188fde35c85b26fffd8c39fff0dd",
     "grade": false,
     "grade_id": "cell-fc4cb4da174f75a6",
     "locked": false,
     "schema_version": 3,
     "solution": true,
     "task": false
    }
   },
   "outputs": [
    {
     "data": {
      "text/plain": [
       "array([[ 2, -1,  0,  0,  0,  0,  0,  0,  0,  0,  0,  0,  0,  0,  0,  0,\n",
       "         0,  0,  0,  0],\n",
       "       [-1,  2, -1,  0,  0,  0,  0,  0,  0,  0,  0,  0,  0,  0,  0,  0,\n",
       "         0,  0,  0,  0],\n",
       "       [ 0, -1,  2, -1,  0,  0,  0,  0,  0,  0,  0,  0,  0,  0,  0,  0,\n",
       "         0,  0,  0,  0],\n",
       "       [ 0,  0, -1,  2, -1,  0,  0,  0,  0,  0,  0,  0,  0,  0,  0,  0,\n",
       "         0,  0,  0,  0],\n",
       "       [ 0,  0,  0, -1,  2, -1,  0,  0,  0,  0,  0,  0,  0,  0,  0,  0,\n",
       "         0,  0,  0,  0],\n",
       "       [ 0,  0,  0,  0, -1,  2, -1,  0,  0,  0,  0,  0,  0,  0,  0,  0,\n",
       "         0,  0,  0,  0],\n",
       "       [ 0,  0,  0,  0,  0, -1,  2, -1,  0,  0,  0,  0,  0,  0,  0,  0,\n",
       "         0,  0,  0,  0],\n",
       "       [ 0,  0,  0,  0,  0,  0, -1,  2, -1,  0,  0,  0,  0,  0,  0,  0,\n",
       "         0,  0,  0,  0],\n",
       "       [ 0,  0,  0,  0,  0,  0,  0, -1,  2, -1,  0,  0,  0,  0,  0,  0,\n",
       "         0,  0,  0,  0],\n",
       "       [ 0,  0,  0,  0,  0,  0,  0,  0, -1,  2, -1,  0,  0,  0,  0,  0,\n",
       "         0,  0,  0,  0],\n",
       "       [ 0,  0,  0,  0,  0,  0,  0,  0,  0, -1,  2, -1,  0,  0,  0,  0,\n",
       "         0,  0,  0,  0],\n",
       "       [ 0,  0,  0,  0,  0,  0,  0,  0,  0,  0, -1,  2, -1,  0,  0,  0,\n",
       "         0,  0,  0,  0],\n",
       "       [ 0,  0,  0,  0,  0,  0,  0,  0,  0,  0,  0, -1,  2, -1,  0,  0,\n",
       "         0,  0,  0,  0],\n",
       "       [ 0,  0,  0,  0,  0,  0,  0,  0,  0,  0,  0,  0, -1,  2, -1,  0,\n",
       "         0,  0,  0,  0],\n",
       "       [ 0,  0,  0,  0,  0,  0,  0,  0,  0,  0,  0,  0,  0, -1,  2, -1,\n",
       "         0,  0,  0,  0],\n",
       "       [ 0,  0,  0,  0,  0,  0,  0,  0,  0,  0,  0,  0,  0,  0, -1,  2,\n",
       "        -1,  0,  0,  0],\n",
       "       [ 0,  0,  0,  0,  0,  0,  0,  0,  0,  0,  0,  0,  0,  0,  0, -1,\n",
       "         2, -1,  0,  0],\n",
       "       [ 0,  0,  0,  0,  0,  0,  0,  0,  0,  0,  0,  0,  0,  0,  0,  0,\n",
       "        -1,  2, -1,  0],\n",
       "       [ 0,  0,  0,  0,  0,  0,  0,  0,  0,  0,  0,  0,  0,  0,  0,  0,\n",
       "         0, -1,  2, -1],\n",
       "       [ 0,  0,  0,  0,  0,  0,  0,  0,  0,  0,  0,  0,  0,  0,  0,  0,\n",
       "         0,  0, -1,  2]])"
      ]
     },
     "metadata": {},
     "output_type": "display_data"
    }
   ],
   "source": [
    "# YOUR CODE HERE\n",
    "x = np.array([2]*20);\n",
    "y = np.array([-1]*19);\n",
    "B = np.diag(y, k = -1)\n",
    "C = np.add(np.diag(x),np.diag(y,k = 1))\n",
    "A = np.add(C,B);\n",
    "display(A);\n"
   ]
  },
  {
   "cell_type": "code",
   "execution_count": 75,
   "id": "7be826e3",
   "metadata": {
    "deletable": false,
    "editable": false,
    "nbgrader": {
     "cell_type": "code",
     "checksum": "d669adc11f098067ff08fdad7ee2d79d",
     "grade": true,
     "grade_id": "cell-cbafec5369295ac4",
     "locked": true,
     "points": 1,
     "schema_version": 3,
     "solution": false,
     "task": false
    }
   },
   "outputs": [
    {
     "name": "stdout",
     "output_type": "stream",
     "text": [
      "Problem 2a Test 1: Success!\n"
     ]
    }
   ],
   "source": [
    "\"Verify type of A. (1 mark)\"\n",
    "assert isinstance(A,np.ndarray)\n",
    "print(\"Problem 2a Test 1: Success!\")"
   ]
  },
  {
   "cell_type": "code",
   "execution_count": 76,
   "id": "1b3748fb",
   "metadata": {
    "deletable": false,
    "editable": false,
    "nbgrader": {
     "cell_type": "code",
     "checksum": "93e617bd35156d2f14cb44dc06521681",
     "grade": true,
     "grade_id": "cell-f9cab5b97d035681",
     "locked": true,
     "points": 1,
     "schema_version": 3,
     "solution": false,
     "task": false
    }
   },
   "outputs": [
    {
     "name": "stdout",
     "output_type": "stream",
     "text": [
      "Problem 2a Test 2: Success!\n"
     ]
    }
   ],
   "source": [
    "\"Verify shape of A. (1 mark)\"\n",
    "assert A.shape == (20,20) , \"A should be a 20 by 20 matrix.\"\n",
    "print(\"Problem 2a Test 2: Success!\")"
   ]
  },
  {
   "cell_type": "code",
   "execution_count": 77,
   "id": "3f7e4618",
   "metadata": {
    "deletable": false,
    "editable": false,
    "nbgrader": {
     "cell_type": "code",
     "checksum": "2afbeaa0ec19069b8627f09ee82f588a",
     "grade": true,
     "grade_id": "cell-baa92e56360b1107",
     "locked": true,
     "points": 1,
     "schema_version": 3,
     "solution": false,
     "task": false
    }
   },
   "outputs": [
    {
     "name": "stdout",
     "output_type": "stream",
     "text": [
      "Problem 2a Test 3: Success!\n"
     ]
    }
   ],
   "source": [
    "\"Verify values of A. This cell contains hidden tests. (1 mark)\"\n",
    "assert A[0,0] == 2 , \"A should be a 20 by 20 matrix.\"\n",
    "print(\"Problem 2a Test 3: Success!\")"
   ]
  },
  {
   "cell_type": "markdown",
   "id": "122a1ef1",
   "metadata": {
    "deletable": false,
    "editable": false,
    "nbgrader": {
     "cell_type": "markdown",
     "checksum": "a5cbbcc66ecbfc07c16e5737714c8d41",
     "grade": false,
     "grade_id": "cell-cf0b9a1a7d7693ae",
     "locked": true,
     "schema_version": 3,
     "solution": false,
     "task": false
    }
   },
   "source": [
    "(b) Use the function `scipy.linalg.lu` (see [documentation](https://docs.scipy.org/doc/scipy/reference/generated/scipy.linalg.lu.html)) to compute the LU decomposition of $A$ for $N = 50$. The result is 3 matrices `P`, `L` and `U`. In this case, the matrix $P$ is the identity matrix and so $A = LU$."
   ]
  },
  {
   "cell_type": "code",
   "execution_count": 83,
   "id": "707cc179",
   "metadata": {
    "deletable": false,
    "nbgrader": {
     "cell_type": "code",
     "checksum": "fc36fd877cb65ebe3e3117cfea8f1145",
     "grade": false,
     "grade_id": "cell-6a81a259d8dc1a20",
     "locked": false,
     "schema_version": 3,
     "solution": true,
     "task": false
    }
   },
   "outputs": [
    {
     "data": {
      "text/plain": [
       "array([[ 2, -1,  0, ...,  0,  0,  0],\n",
       "       [-1,  2, -1, ...,  0,  0,  0],\n",
       "       [ 0, -1,  2, ...,  0,  0,  0],\n",
       "       ...,\n",
       "       [ 0,  0,  0, ...,  2, -1,  0],\n",
       "       [ 0,  0,  0, ..., -1,  2, -1],\n",
       "       [ 0,  0,  0, ...,  0, -1,  2]])"
      ]
     },
     "metadata": {},
     "output_type": "display_data"
    }
   ],
   "source": [
    "# YOUR CODE HERE\n",
    "x = np.array([2]*50);\n",
    "y = np.array([-1]*49);\n",
    "B = np.diag(y, k = -1)\n",
    "C = np.add(np.diag(x),np.diag(y,k = 1))\n",
    "A = np.add(C,B);\n",
    "P,L,U = la.lu(A);\n",
    "display(A);"
   ]
  },
  {
   "cell_type": "code",
   "execution_count": 79,
   "id": "1f9ea29f",
   "metadata": {
    "deletable": false,
    "editable": false,
    "nbgrader": {
     "cell_type": "code",
     "checksum": "7478b0a34e1da495d497ca383e87749d",
     "grade": true,
     "grade_id": "cell-72eb78cfcc7e2152",
     "locked": true,
     "points": 1,
     "schema_version": 3,
     "solution": false,
     "task": false
    }
   },
   "outputs": [
    {
     "name": "stdout",
     "output_type": "stream",
     "text": [
      "Problem 2b Test 1: Success!\n"
     ]
    }
   ],
   "source": [
    "\"Verify P is the identity matrix. (1 mark)\"\n",
    "assert np.allclose(P,np.eye(50)) , \"P should be the identity matrix of size 50.\"\n",
    "print(\"Problem 2b Test 1: Success!\")"
   ]
  },
  {
   "cell_type": "code",
   "execution_count": null,
   "id": "c4edec5e",
   "metadata": {},
   "outputs": [],
   "source": []
  },
  {
   "cell_type": "code",
   "execution_count": 80,
   "id": "401e32ad",
   "metadata": {
    "deletable": false,
    "editable": false,
    "nbgrader": {
     "cell_type": "code",
     "checksum": "46ab0de0d6173adb4bf6ea0fab4bd35e",
     "grade": true,
     "grade_id": "cell-0e733dc3fbcf04a9",
     "locked": true,
     "points": 1,
     "schema_version": 3,
     "solution": false,
     "task": false
    }
   },
   "outputs": [
    {
     "name": "stdout",
     "output_type": "stream",
     "text": [
      "Problem 2b Test 2: Success!\n"
     ]
    }
   ],
   "source": [
    "\"Verify size of L and U. (1 mark)\"\n",
    "assert L.shape == (50,50) , \"L should be a 50 by 50 matrix.\"\n",
    "assert U.shape == (50,50) , \"U should be a 50 by 50 matrix.\"\n",
    "print(\"Problem 2b Test 2: Success!\")"
   ]
  },
  {
   "cell_type": "code",
   "execution_count": 81,
   "id": "b5b78237",
   "metadata": {
    "deletable": false,
    "editable": false,
    "nbgrader": {
     "cell_type": "code",
     "checksum": "43c7ce4bc236314ecd260b0e53941086",
     "grade": true,
     "grade_id": "cell-cb3b6b96d0c67cb1",
     "locked": true,
     "points": 1,
     "schema_version": 3,
     "solution": false,
     "task": false
    }
   },
   "outputs": [
    {
     "name": "stdout",
     "output_type": "stream",
     "text": [
      "Problem 2b Test 3: Success!\n"
     ]
    }
   ],
   "source": [
    "\"Verify values of L and U. This cell contains hidden tests. (1 mark)\"\n",
    "assert L.shape == (50,50) , \"L should be a 50 by 50 matrix.\"\n",
    "assert U.shape == (50,50) , \"U should be a 50 by 50 matrix.\"\n",
    "print(\"Problem 2b Test 3: Success!\")"
   ]
  },
  {
   "cell_type": "markdown",
   "id": "69ede3bb",
   "metadata": {
    "deletable": false,
    "editable": false,
    "nbgrader": {
     "cell_type": "markdown",
     "checksum": "f42c3eb49f3fc6be06cf4779d2e48b1e",
     "grade": false,
     "grade_id": "cell-e8f43e6320081322",
     "locked": true,
     "schema_version": 3,
     "solution": false,
     "task": false
    }
   },
   "source": [
    "(c) Consider the vector\n",
    "\n",
    "$$\n",
    "\\mathbf{b} = \\begin{bmatrix} V \\\\ \\vdots \\\\ V \\end{bmatrix}\n",
    "$$\n",
    "\n",
    "Let us solve the system $A \\mathbf{x} = \\mathbf{b}$ in 2 ways:\n",
    "\n",
    "1. Directly using `scipy.linalg.solve`\n",
    "2. Using the LU decomposition and the function `scipy.linalg.solve_triangular`.\n",
    "\n",
    "Run the cells below several times and observe the results:"
   ]
  },
  {
   "cell_type": "code",
   "execution_count": 56,
   "id": "43032eda",
   "metadata": {
    "deletable": false,
    "editable": false,
    "nbgrader": {
     "cell_type": "code",
     "checksum": "8c05e91da820a9ab891dfaa0eb68c6e6",
     "grade": false,
     "grade_id": "cell-54cf1ed748227de4",
     "locked": true,
     "schema_version": 3,
     "solution": false,
     "task": false
    }
   },
   "outputs": [],
   "source": [
    "V = 12\n",
    "b = V*np.ones((N,1))"
   ]
  },
  {
   "cell_type": "code",
   "execution_count": 84,
   "id": "5ea4a7ff",
   "metadata": {
    "deletable": false,
    "editable": false,
    "nbgrader": {
     "cell_type": "code",
     "checksum": "8ad184e713310c98d43ec6f2ae07000a",
     "grade": false,
     "grade_id": "cell-74b107191c8bf11e",
     "locked": true,
     "schema_version": 3,
     "solution": false,
     "task": false
    }
   },
   "outputs": [
    {
     "name": "stdout",
     "output_type": "stream",
     "text": [
      "79.9 µs ± 3.31 µs per loop (mean ± std. dev. of 7 runs, 10000 loops each)\n"
     ]
    }
   ],
   "source": [
    "%%timeit\n",
    "\n",
    "# Solve system by Gaussian elimination\n",
    "x = la.solve(A,b)"
   ]
  },
  {
   "cell_type": "code",
   "execution_count": 85,
   "id": "8b7b3d62",
   "metadata": {
    "deletable": false,
    "editable": false,
    "nbgrader": {
     "cell_type": "code",
     "checksum": "9b25b0df616a6f8b60c54df257db0eb0",
     "grade": false,
     "grade_id": "cell-c4a742b5e1a342b7",
     "locked": true,
     "schema_version": 3,
     "solution": false,
     "task": false
    }
   },
   "outputs": [
    {
     "name": "stdout",
     "output_type": "stream",
     "text": [
      "38.9 µs ± 1.69 µs per loop (mean ± std. dev. of 7 runs, 10000 loops each)\n"
     ]
    }
   ],
   "source": [
    "%%timeit\n",
    "\n",
    "# Solve system with forward/backward substitution given LU decompositon \n",
    "y1 = la.solve_triangular(L,b,lower=True)\n",
    "x1 = la.solve_triangular(U,y1,lower=False)"
   ]
  },
  {
   "cell_type": "markdown",
   "id": "7fe46d96",
   "metadata": {
    "deletable": false,
    "editable": false,
    "nbgrader": {
     "cell_type": "markdown",
     "checksum": "bf08e271afe6dc1332756dd20059136d",
     "grade": false,
     "grade_id": "cell-99e644a41b3466e3",
     "locked": true,
     "schema_version": 3,
     "solution": false,
     "task": false
    }
   },
   "source": [
    "(c) **True** or **False**: Solving the system with forward/backward substitution given the LU decomposition is faster.\n",
    "\n",
    "Enter your response as `observation`."
   ]
  },
  {
   "cell_type": "code",
   "execution_count": 86,
   "id": "5a7edc16",
   "metadata": {
    "deletable": false,
    "nbgrader": {
     "cell_type": "code",
     "checksum": "dd356018724d785cc6bd46101dcedb6c",
     "grade": false,
     "grade_id": "cell-7ffbc0be8f852cbb",
     "locked": false,
     "schema_version": 3,
     "solution": true,
     "task": false
    }
   },
   "outputs": [],
   "source": [
    "# YOUR CODE HERE\n",
    "observation = True;"
   ]
  },
  {
   "cell_type": "code",
   "execution_count": 87,
   "id": "40725b93",
   "metadata": {
    "deletable": false,
    "editable": false,
    "nbgrader": {
     "cell_type": "code",
     "checksum": "5263e797ca3fd4e98e0d615c59dc8519",
     "grade": true,
     "grade_id": "cell-d0323c0c938a2de8",
     "locked": true,
     "points": 1,
     "schema_version": 3,
     "solution": false,
     "task": false
    }
   },
   "outputs": [
    {
     "name": "stdout",
     "output_type": "stream",
     "text": [
      "Problem 2c Test 1: Success!\n"
     ]
    }
   ],
   "source": [
    "\"Verify value of observation. This cell contains hidden tests. (1 mark)\"\n",
    "assert isinstance(observation, bool) , \"observation should be True or False.\"\n",
    "print(\"Problem 2c Test 1: Success!\")"
   ]
  },
  {
   "cell_type": "markdown",
   "id": "66595040",
   "metadata": {
    "deletable": false,
    "editable": false,
    "nbgrader": {
     "cell_type": "markdown",
     "checksum": "456c163135b2c79b4e39bd1e507a171b",
     "grade": false,
     "grade_id": "cell-6b5c613bb368f3b8",
     "locked": true,
     "schema_version": 3,
     "solution": false,
     "task": false
    }
   },
   "source": [
    "## Problem 3 (4 marks)\n",
    "\n",
    "Let $c \\in \\mathbb{R}$ and consider the $N \\times N$ matrix\n",
    "\n",
    "$$\n",
    "A =  \\left[ \\begin{array}{ccccc}\n",
    "c & 1 & & & \\\\\n",
    "1 & c & 1 & & \\\\\n",
    "& & \\ddots & & \\\\\n",
    "& & 1 & c & 1 \\\\\n",
    "& & & 1 & c \\\\\n",
    "\\end{array}\n",
    "\\right]\n",
    "$$\n",
    "\n",
    "Use the function `np.diag` (see [documentation](https://numpy.org/doc/stable/reference/generated/numpy.diag.html)) to construct $A$. Use the function `np.linalg.cond` (see [documentation](https://numpy.org/doc/stable/reference/generated/numpy.linalg.cond.html)) to compute the condition number."
   ]
  },
  {
   "cell_type": "markdown",
   "id": "7ce46fb3",
   "metadata": {
    "deletable": false,
    "editable": false,
    "nbgrader": {
     "cell_type": "markdown",
     "checksum": "201d119c90b344e6c2e7ef25cfcd308e",
     "grade": false,
     "grade_id": "cell-d9662e1a36d88d3e",
     "locked": true,
     "schema_version": 3,
     "solution": false,
     "task": false
    }
   },
   "source": [
    "(a) Compute the condition number of $A$ for $N = 20$ and $c = 8$. Save the result as `C`."
   ]
  },
  {
   "cell_type": "code",
   "execution_count": 107,
   "id": "7824d4ea",
   "metadata": {
    "deletable": false,
    "nbgrader": {
     "cell_type": "code",
     "checksum": "e066ab0e1b8ed53127b3f650ae4890af",
     "grade": false,
     "grade_id": "cell-4ac760747ed60ede",
     "locked": false,
     "schema_version": 3,
     "solution": true,
     "task": false
    }
   },
   "outputs": [
    {
     "data": {
      "text/plain": [
       "array([[8, 1, 0, 0, 0, 0, 0, 0, 0, 0, 0, 0, 0, 0, 0, 0, 0, 0, 0, 0],\n",
       "       [1, 8, 1, 0, 0, 0, 0, 0, 0, 0, 0, 0, 0, 0, 0, 0, 0, 0, 0, 0],\n",
       "       [0, 1, 8, 1, 0, 0, 0, 0, 0, 0, 0, 0, 0, 0, 0, 0, 0, 0, 0, 0],\n",
       "       [0, 0, 1, 8, 1, 0, 0, 0, 0, 0, 0, 0, 0, 0, 0, 0, 0, 0, 0, 0],\n",
       "       [0, 0, 0, 1, 8, 1, 0, 0, 0, 0, 0, 0, 0, 0, 0, 0, 0, 0, 0, 0],\n",
       "       [0, 0, 0, 0, 1, 8, 1, 0, 0, 0, 0, 0, 0, 0, 0, 0, 0, 0, 0, 0],\n",
       "       [0, 0, 0, 0, 0, 1, 8, 1, 0, 0, 0, 0, 0, 0, 0, 0, 0, 0, 0, 0],\n",
       "       [0, 0, 0, 0, 0, 0, 1, 8, 1, 0, 0, 0, 0, 0, 0, 0, 0, 0, 0, 0],\n",
       "       [0, 0, 0, 0, 0, 0, 0, 1, 8, 1, 0, 0, 0, 0, 0, 0, 0, 0, 0, 0],\n",
       "       [0, 0, 0, 0, 0, 0, 0, 0, 1, 8, 1, 0, 0, 0, 0, 0, 0, 0, 0, 0],\n",
       "       [0, 0, 0, 0, 0, 0, 0, 0, 0, 1, 8, 1, 0, 0, 0, 0, 0, 0, 0, 0],\n",
       "       [0, 0, 0, 0, 0, 0, 0, 0, 0, 0, 1, 8, 1, 0, 0, 0, 0, 0, 0, 0],\n",
       "       [0, 0, 0, 0, 0, 0, 0, 0, 0, 0, 0, 1, 8, 1, 0, 0, 0, 0, 0, 0],\n",
       "       [0, 0, 0, 0, 0, 0, 0, 0, 0, 0, 0, 0, 1, 8, 1, 0, 0, 0, 0, 0],\n",
       "       [0, 0, 0, 0, 0, 0, 0, 0, 0, 0, 0, 0, 0, 1, 8, 1, 0, 0, 0, 0],\n",
       "       [0, 0, 0, 0, 0, 0, 0, 0, 0, 0, 0, 0, 0, 0, 1, 8, 1, 0, 0, 0],\n",
       "       [0, 0, 0, 0, 0, 0, 0, 0, 0, 0, 0, 0, 0, 0, 0, 1, 8, 1, 0, 0],\n",
       "       [0, 0, 0, 0, 0, 0, 0, 0, 0, 0, 0, 0, 0, 0, 0, 0, 1, 8, 1, 0],\n",
       "       [0, 0, 0, 0, 0, 0, 0, 0, 0, 0, 0, 0, 0, 0, 0, 0, 0, 1, 8, 1],\n",
       "       [0, 0, 0, 0, 0, 0, 0, 0, 0, 0, 0, 0, 0, 0, 0, 0, 0, 0, 1, 8]])"
      ]
     },
     "metadata": {},
     "output_type": "display_data"
    },
    {
     "data": {
      "text/plain": [
       "1.6567753381889914"
      ]
     },
     "metadata": {},
     "output_type": "display_data"
    }
   ],
   "source": [
    "# YOUR CODE HERE\n",
    "x = np.array([8]*20);\n",
    "y = np.array([1]*19);\n",
    "A_0 = np.diag(y, k = -1)\n",
    "A_1 = np.add(np.diag(x),np.diag(y,k = 1))\n",
    "A = np.add(A_0,A_1);\n",
    "display(A);\n",
    "C = np.linalg.cond(A);\n",
    "display(C);"
   ]
  },
  {
   "cell_type": "code",
   "execution_count": 96,
   "id": "e23203dc",
   "metadata": {
    "deletable": false,
    "editable": false,
    "nbgrader": {
     "cell_type": "code",
     "checksum": "0bd260a7f14b453bfe533fd0879c8261",
     "grade": true,
     "grade_id": "cell-47f37e7b985d0a36",
     "locked": true,
     "points": 1,
     "schema_version": 3,
     "solution": false,
     "task": false
    }
   },
   "outputs": [
    {
     "name": "stdout",
     "output_type": "stream",
     "text": [
      "Problem 3a Test 1: Success!\n"
     ]
    }
   ],
   "source": [
    "\"Verify type of C. (1 mark)\"\n",
    "assert isinstance(C,np.float64)\n",
    "print(\"Problem 3a Test 1: Success!\")"
   ]
  },
  {
   "cell_type": "code",
   "execution_count": 97,
   "id": "8d1ce93c",
   "metadata": {
    "deletable": false,
    "editable": false,
    "nbgrader": {
     "cell_type": "code",
     "checksum": "0e5e70c86c57f18b89053f0bf9aad64a",
     "grade": true,
     "grade_id": "cell-0d3c9413c28f33b6",
     "locked": true,
     "points": 1,
     "schema_version": 3,
     "solution": false,
     "task": false
    }
   },
   "outputs": [
    {
     "name": "stdout",
     "output_type": "stream",
     "text": [
      "Problem 3a Test 2: Success!\n"
     ]
    }
   ],
   "source": [
    "\"Verify value of C. This cell contains hidden tests. (1 mark)\"\n",
    "assert C > 0\n",
    "print(\"Problem 3a Test 2: Success!\")"
   ]
  },
  {
   "cell_type": "markdown",
   "id": "53728a28",
   "metadata": {
    "deletable": false,
    "editable": false,
    "nbgrader": {
     "cell_type": "markdown",
     "checksum": "919734609510e68a0d9774b15fc18764",
     "grade": false,
     "grade_id": "cell-265fbd63559c1124",
     "locked": true,
     "schema_version": 3,
     "solution": false,
     "task": false
    }
   },
   "source": [
    "(b) **True** or **False**: For any $N$, the condition number of $A$ decreases as $c$ increases. Assign `increasing` as either **True** or **False**."
   ]
  },
  {
   "cell_type": "code",
   "execution_count": 108,
   "id": "8dcb9bd9",
   "metadata": {
    "deletable": false,
    "nbgrader": {
     "cell_type": "code",
     "checksum": "6cae4cf6ba35c9acf92a232e36629158",
     "grade": false,
     "grade_id": "cell-de8a7dcd44dc16d1",
     "locked": false,
     "schema_version": 3,
     "solution": true,
     "task": false
    }
   },
   "outputs": [],
   "source": [
    "# YOUR CODE HERE\n",
    "increasing = False;"
   ]
  },
  {
   "cell_type": "code",
   "execution_count": 110,
   "id": "231819bd",
   "metadata": {
    "deletable": false,
    "editable": false,
    "nbgrader": {
     "cell_type": "code",
     "checksum": "f87ba2ecd4a78f09e96b77513bc2b51a",
     "grade": true,
     "grade_id": "cell-50b461c203183ec7",
     "locked": true,
     "points": 1,
     "schema_version": 3,
     "solution": false,
     "task": false
    }
   },
   "outputs": [
    {
     "name": "stdout",
     "output_type": "stream",
     "text": [
      "Problem 3b Test 1: Success!\n"
     ]
    }
   ],
   "source": [
    "\"Verify type of increasing. (1 mark)\"\n",
    "assert isinstance(increasing,bool) , \"increasing should be either True or False\"\n",
    "print(\"Problem 3b Test 1: Success!\")"
   ]
  },
  {
   "cell_type": "code",
   "execution_count": 111,
   "id": "b0ac1880",
   "metadata": {
    "deletable": false,
    "editable": false,
    "nbgrader": {
     "cell_type": "code",
     "checksum": "5f8e3f580e733325d8d5a7e8845cf654",
     "grade": true,
     "grade_id": "cell-20f06b3d88d59d41",
     "locked": true,
     "points": 1,
     "schema_version": 3,
     "solution": false,
     "task": false
    }
   },
   "outputs": [
    {
     "name": "stdout",
     "output_type": "stream",
     "text": [
      "Problem 3b Test 2: Success!\n"
     ]
    }
   ],
   "source": [
    "\"Verify value of increasing. This cell contains hidden tests. (1 mark)\"\n",
    "assert isinstance(increasing,bool) , \"increasing should be either True or False\"\n",
    "print(\"Problem 3b Test 2: Success!\")"
   ]
  },
  {
   "cell_type": "markdown",
   "id": "fc77327e",
   "metadata": {
    "deletable": false,
    "editable": false,
    "nbgrader": {
     "cell_type": "markdown",
     "checksum": "3c5494b7edcbad7c99b5cd32e5823d3c",
     "grade": false,
     "grade_id": "cell-d4a4a0688f4f8b64",
     "locked": true,
     "schema_version": 3,
     "solution": false,
     "task": false
    }
   },
   "source": [
    "## Problem 4 (2 marks)\n",
    "\n",
    "Find the smallest integer $N$ such that the Vandermonde matrix for data points $t_0=0,\\dots,t_N=N$ has condition number greater than $10^6$.\n",
    "\n",
    "Use `np.vander` to create the Vandermonde matrix. See the [documentation](https://numpy.org/doc/stable/reference/generated/numpy.vander.html).\n",
    "\n",
    "Use the function `np.linalg.cond` to compute the condition number. See the [documentation](https://numpy.org/doc/stable/reference/generated/numpy.linalg.cond.html)."
   ]
  },
  {
   "cell_type": "code",
   "execution_count": 25,
   "id": "cb4a6cf5",
   "metadata": {
    "deletable": false,
    "nbgrader": {
     "cell_type": "code",
     "checksum": "70879ca6e968406e11cbbe30e34b362f",
     "grade": false,
     "grade_id": "cell-7038b9f7f2892651",
     "locked": false,
     "schema_version": 3,
     "solution": true,
     "task": false
    }
   },
   "outputs": [],
   "source": [
    "# YOUR CODE HERE\n"
   ]
  },
  {
   "cell_type": "code",
   "execution_count": null,
   "id": "c45f8439",
   "metadata": {
    "deletable": false,
    "editable": false,
    "nbgrader": {
     "cell_type": "code",
     "checksum": "0bced13113a2282886b007696129e656",
     "grade": true,
     "grade_id": "cell-904c98fd1fb77c29",
     "locked": true,
     "points": 1,
     "schema_version": 3,
     "solution": false,
     "task": false
    }
   },
   "outputs": [],
   "source": [
    "\"Verify type of N. (1 mark)\"\n",
    "assert isinstance(N,int) , \"N should be an integer\"\n",
    "print(\"Problem 4 Test 1: Success!\")"
   ]
  },
  {
   "cell_type": "code",
   "execution_count": null,
   "id": "3fb5431f",
   "metadata": {
    "deletable": false,
    "editable": false,
    "nbgrader": {
     "cell_type": "code",
     "checksum": "a2cb442309883c2173ca511e1c645f9e",
     "grade": true,
     "grade_id": "cell-783a544a33cf1419",
     "locked": true,
     "points": 1,
     "schema_version": 3,
     "solution": false,
     "task": false
    }
   },
   "outputs": [],
   "source": [
    "\"Verify value of N. This cell contains hidden tests. (1 mark)\"\n",
    "assert N > 0 , \"N should be an integer\"\n",
    "print(\"Problem 4 Test 2: Success!\")"
   ]
  },
  {
   "cell_type": "markdown",
   "id": "d2451158",
   "metadata": {
    "deletable": false,
    "editable": false,
    "nbgrader": {
     "cell_type": "markdown",
     "checksum": "8145bcb6e11afd7a4525a90167a6b9f8",
     "grade": false,
     "grade_id": "cell-8769fee90a40e4c2",
     "locked": true,
     "schema_version": 3,
     "solution": false,
     "task": false
    }
   },
   "source": [
    "## Problem 5 (5 marks)\n",
    "\n",
    "The data in the cell below records the average daily temperature in [Alert, Nunavut](https://en.wikipedia.org/wiki/Alert,_Nunavut) in April 2006 (see [Environment and Climate Change Canada](https://climate.weather.gc.ca)). Note that there are days with missing data. The goal of this exercise is to interpolate the data with a natural cubic spline and predict the temperature on the days without a measurement."
   ]
  },
  {
   "cell_type": "code",
   "execution_count": 13,
   "id": "ac43ef60",
   "metadata": {
    "deletable": false,
    "editable": false,
    "nbgrader": {
     "cell_type": "code",
     "checksum": "f4b2f7066edb3b4309240183c12d333f",
     "grade": false,
     "grade_id": "cell-94afeac2c5e2516c",
     "locked": true,
     "schema_version": 3,
     "solution": false,
     "task": false
    }
   },
   "outputs": [
    {
     "data": {
      "image/png": "[encoded data removed]",
      "text/plain": [
       "<Figure size 1008x360 with 1 Axes>"
      ]
     },
     "metadata": {
      "needs_background": "light"
     },
     "output_type": "display_data"
    }
   ],
   "source": [
    "day = [1,2,3,4,5,6,9,10,11,12,14,15,16,17,18,19,20,21,22,23,24,25,26,29,30]\n",
    "temperature = [-31.3,-30.9,-30.2,-30.5,-26.8,-28.0,-30.8,-23.4,-18.3,-19.6,-25.1,-21.9,-25.9,-29.4,-28.7,-22.7,-23.1,-19.6,-21.1,-14.8,-15.6,-11.8,-11.2,-15.1,-13.7]\n",
    "\n",
    "plt.figure(figsize=(14,5))\n",
    "plt.plot(day,temperature,'.')\n",
    "plt.title('Average Daily Temperature, Alert, Nunavut (April 2006)')\n",
    "plt.xlabel('Day'), plt.ylabel('Temperature (C)')\n",
    "plt.grid(True)\n",
    "plt.show()"
   ]
  },
  {
   "cell_type": "markdown",
   "id": "b7e41362",
   "metadata": {
    "deletable": false,
    "editable": false,
    "nbgrader": {
     "cell_type": "markdown",
     "checksum": "26d79003c7baf651041de9e0f997b734",
     "grade": false,
     "grade_id": "cell-1fc97a54f5a13c42",
     "locked": true,
     "schema_version": 3,
     "solution": false,
     "task": false
    }
   },
   "source": [
    "(a) Use the function `scipy.interpolate.CubicSpline` to compute the natural cubic spline `p` of the data. See the [documentation](https://docs.scipy.org/doc/scipy/reference/generated/scipy.interpolate.CubicSpline.html). Note that the natural cubic spline condition requires `bc_type='natural'`."
   ]
  },
  {
   "cell_type": "code",
   "execution_count": 17,
   "id": "c2ae1148",
   "metadata": {
    "deletable": false,
    "nbgrader": {
     "cell_type": "code",
     "checksum": "d93dcd6d108154a50bc12cc2c39e88c5",
     "grade": false,
     "grade_id": "cell-57e2a26924ca24e4",
     "locked": false,
     "schema_version": 3,
     "solution": true,
     "task": false
    }
   },
   "outputs": [],
   "source": [
    "from scipy.interpolate import CubicSpline\n",
    "# YOUR CODE HERE\n",
    "p = CubicSpline(day,temperature,bc_type =\"natural\")"
   ]
  },
  {
   "cell_type": "code",
   "execution_count": 18,
   "id": "bfad050c",
   "metadata": {
    "deletable": false,
    "editable": false,
    "nbgrader": {
     "cell_type": "code",
     "checksum": "8f2430a921f251eb1547ecc747203dbe",
     "grade": true,
     "grade_id": "cell-f40eff85dbd214b8",
     "locked": true,
     "points": 1,
     "schema_version": 3,
     "solution": false,
     "task": false
    }
   },
   "outputs": [
    {
     "name": "stdout",
     "output_type": "stream",
     "text": [
      "Problem 5a Test 1: Success!\n"
     ]
    }
   ],
   "source": [
    "\"Verify type of p. (1 mark)\"\n",
    "assert isinstance(p,CubicSpline) , \"p should be a CubicSpline object.\"\n",
    "print(\"Problem 5a Test 1: Success!\")"
   ]
  },
  {
   "cell_type": "code",
   "execution_count": 19,
   "id": "5c9432c4",
   "metadata": {
    "deletable": false,
    "editable": false,
    "nbgrader": {
     "cell_type": "code",
     "checksum": "f0c90ebb1d510cd282e13328847c0521",
     "grade": true,
     "grade_id": "cell-1d699a10dbdc075f",
     "locked": true,
     "points": 2,
     "schema_version": 3,
     "solution": false,
     "task": false
    }
   },
   "outputs": [
    {
     "name": "stdout",
     "output_type": "stream",
     "text": [
      "Problem 5a Test 2: Success!\n"
     ]
    }
   ],
   "source": [
    "\"Verify the coefficient matrix of p. This cell contains hidden tests. (1 mark)\"\n",
    "assert p.c.shape == (4,24) , \"Coefficient of matrix should be 4 by 24.\"\n",
    "print(\"Problem 5a Test 2: Success!\")"
   ]
  },
  {
   "cell_type": "markdown",
   "id": "46a53fad",
   "metadata": {
    "deletable": false,
    "editable": false,
    "nbgrader": {
     "cell_type": "markdown",
     "checksum": "fc44af63522f56f481acd5ae096d7edc",
     "grade": false,
     "grade_id": "cell-c949cf924a6786cc",
     "locked": true,
     "schema_version": 3,
     "solution": false,
     "task": false
    }
   },
   "source": [
    "Plot the cubic spline with the data."
   ]
  },
  {
   "cell_type": "code",
   "execution_count": 20,
   "id": "0127311a",
   "metadata": {
    "deletable": false,
    "editable": false,
    "nbgrader": {
     "cell_type": "code",
     "checksum": "4ef02ae9442f697aeb691bbddfca25f8",
     "grade": false,
     "grade_id": "cell-b9f1c9fd5ecba65a",
     "locked": true,
     "schema_version": 3,
     "solution": false,
     "task": false
    }
   },
   "outputs": [
    {
     "data": {
      "image/png": "[encoded data removed]",
      "text/plain": [
       "<Figure size 1008x360 with 1 Axes>"
      ]
     },
     "metadata": {
      "needs_background": "light"
     },
     "output_type": "display_data"
    }
   ],
   "source": [
    "plt.figure(figsize=(14,5))\n",
    "d = np.linspace(1,30,200)\n",
    "t = p(d)\n",
    "plt.plot(d,t,'r')\n",
    "plt.plot(day,temperature,'.b')\n",
    "plt.title('Average Daily Temperature in Alert, Nunavut (April 2006)')\n",
    "plt.xlabel('Day'), plt.ylabel('Temperature (C)')\n",
    "plt.grid(True)\n",
    "plt.show()"
   ]
  },
  {
   "cell_type": "markdown",
   "id": "05e7f9c9",
   "metadata": {
    "deletable": false,
    "editable": false,
    "nbgrader": {
     "cell_type": "markdown",
     "checksum": "372283a121101b2cfa40d76a9e21f390",
     "grade": false,
     "grade_id": "cell-41b50009c87cf660",
     "locked": true,
     "schema_version": 3,
     "solution": false,
     "task": false
    }
   },
   "source": [
    "(b) We can use the cubic spline object `p` as a function to compute the temperature at any point. Compute the temperature for `d = 28` and assign the result to `T28`."
   ]
  },
  {
   "cell_type": "code",
   "execution_count": 23,
   "id": "4b5e9a60",
   "metadata": {
    "deletable": false,
    "nbgrader": {
     "cell_type": "code",
     "checksum": "f3bd602342ec131d6e5bea0abf599ab5",
     "grade": false,
     "grade_id": "cell-fbfb716214a38244",
     "locked": false,
     "schema_version": 3,
     "solution": true,
     "task": false
    }
   },
   "outputs": [
    {
     "data": {
      "text/plain": [
       "array(-14.59503284)"
      ]
     },
     "metadata": {},
     "output_type": "display_data"
    }
   ],
   "source": [
    "# YOUR CODE HERE\n",
    "T28 = p(28);\n",
    "display(T28);"
   ]
  },
  {
   "cell_type": "code",
   "execution_count": 24,
   "id": "d0c1af81",
   "metadata": {
    "deletable": false,
    "editable": false,
    "nbgrader": {
     "cell_type": "code",
     "checksum": "c5ba77680c074b42329b50b7448c6d09",
     "grade": true,
     "grade_id": "cell-844ab8ea928c3ab7",
     "locked": true,
     "points": 2,
     "schema_version": 3,
     "solution": false,
     "task": false
    }
   },
   "outputs": [
    {
     "name": "stdout",
     "output_type": "stream",
     "text": [
      "Problem 5b Test 1: Success!\n"
     ]
    }
   ],
   "source": [
    "\"Verify the value of T28. This cell contains hidden tests. (2 mark)\"\n",
    "assert T28 < 0 , \"The temperature should be below 0.\"\n",
    "print(\"Problem 5b Test 1: Success!\")"
   ]
  }
 ],
 "metadata": {
  "kernelspec": {
   "display_name": "Python 3",
   "language": "python",
   "name": "python3"
  },
  "language_info": {
   "codemirror_mode": {
    "name": "ipython",
    "version": 3
   },
   "file_extension": ".py",
   "mimetype": "text/x-python",
   "name": "python",
   "nbconvert_exporter": "python",
   "pygments_lexer": "ipython3",
   "version": "3.6.13"
  }
 },
 "nbformat": 4,
 "nbformat_minor": 5
}
